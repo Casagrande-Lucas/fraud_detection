{
 "cells": [
  {
   "cell_type": "code",
   "id": "initial_id",
   "metadata": {
    "collapsed": true,
    "ExecuteTime": {
     "end_time": "2024-08-03T19:59:19.778619Z",
     "start_time": "2024-08-03T19:59:19.697108Z"
    }
   },
   "source": [
    "import pandas as pd\n",
    "import torch\n",
    "import torch.nn as nn\n",
    "import torch.optim as optim\n",
    "from sklearn.model_selection import train_test_split\n",
    "from sklearn.preprocessing import StandardScaler\n",
    "from sklearn.metrics import classification_report, confusion_matrix\n",
    "\n",
    "# Definição do modelo\n",
    "class FraudDetectionModel(nn.Module):\n",
    "    def __init__(self, input_dim):\n",
    "        super(FraudDetectionModel, self).__init__()\n",
    "        self.fc1 = nn.Linear(input_dim, 128)\n",
    "        self.fc2 = nn.Linear(128, 64)\n",
    "        self.fc3 = nn.Linear(64, 2)\n",
    "    \n",
    "    def forward(self, x):\n",
    "        x = torch.relu(self.fc1(x))\n",
    "        x = torch.relu(self.fc2(x))\n",
    "        x = self.fc3(x)\n",
    "        return x\n",
    "\n",
    "# Função de treinamento\n",
    "def train_neural_network(x_train, y_train, input_dim, num_epochs=20):\n",
    "    model = FraudDetectionModel(input_dim)\n",
    "    criterion = nn.CrossEntropyLoss()\n",
    "    optimizer = optim.Adam(model.parameters(), lr=0.001)\n",
    "\n",
    "    for epoch in range(num_epochs):\n",
    "        model.train()\n",
    "        optimizer.zero_grad()\n",
    "        outputs = model(x_train)\n",
    "        loss = criterion(outputs, y_train)\n",
    "        loss.backward()\n",
    "        optimizer.step()\n",
    "\n",
    "        if (epoch+1) % 5 == 0:\n",
    "            print(f'Epoch [{epoch+1}/{num_epochs}], Loss: {loss.item():.4f}')\n",
    "    \n",
    "    return model\n",
    "\n",
    "# Carregar e pré-processar os dados\n",
    "df = pd.read_csv('../data/transactions_preprocessed.csv')\n",
    "\n",
    "# Excluir colunas não numéricas\n",
    "X = df.drop(columns=['fraud', 'transaction_date'])\n",
    "y = df['fraud']\n",
    "\n",
    "scaler = StandardScaler()\n",
    "X_scaled = scaler.fit_transform(X)\n",
    "\n",
    "X_train, X_test, y_train, y_test = train_test_split(X_scaled, y, test_size=0.2, random_state=42)\n",
    "\n",
    "X_train = torch.tensor(X_train, dtype=torch.float32)\n",
    "X_test = torch.tensor(X_test, dtype=torch.float32)\n",
    "y_train = torch.tensor(y_train.values, dtype=torch.long)\n",
    "y_test = torch.tensor(y_test.values, dtype=torch.long)\n",
    "\n",
    "# Treinar o modelo\n",
    "print(\"Iniciando o treinamento do modelo...\")\n",
    "model = train_neural_network(X_train, y_train, X_train.shape[1], num_epochs=20)\n",
    "\n",
    "# Avaliar o modelo\n",
    "model.eval()\n",
    "with torch.no_grad():\n",
    "    outputs = model(X_test)\n",
    "    _, predicted = torch.max(outputs.data, 1)\n",
    "    predicted = predicted.numpy()  # Convertendo para NumPy array\n",
    "    y_test = y_test.numpy()  # Convertendo para NumPy array\n",
    "    print(\"Relatório de Classificação:\")\n",
    "    print(classification_report(y_test, predicted))\n",
    "    print(\"Matriz de Confusão:\")\n",
    "    print(confusion_matrix(y_test, predicted))\n"
   ],
   "outputs": [
    {
     "name": "stdout",
     "output_type": "stream",
     "text": [
      "Iniciando o treinamento do modelo...\n",
      "Epoch [5/20], Loss: 0.6868\n",
      "Epoch [10/20], Loss: 0.6833\n",
      "Epoch [15/20], Loss: 0.6806\n",
      "Epoch [20/20], Loss: 0.6781\n"
     ]
    },
    {
     "ename": "RuntimeError",
     "evalue": "Numpy is not available",
     "output_type": "error",
     "traceback": [
      "\u001B[0;31m---------------------------------------------------------------------------\u001B[0m",
      "\u001B[0;31mRuntimeError\u001B[0m                              Traceback (most recent call last)",
      "Cell \u001B[0;32mIn[10], line 68\u001B[0m\n\u001B[1;32m     66\u001B[0m outputs \u001B[38;5;241m=\u001B[39m model(X_test)\n\u001B[1;32m     67\u001B[0m _, predicted \u001B[38;5;241m=\u001B[39m torch\u001B[38;5;241m.\u001B[39mmax(outputs\u001B[38;5;241m.\u001B[39mdata, \u001B[38;5;241m1\u001B[39m)\n\u001B[0;32m---> 68\u001B[0m predicted \u001B[38;5;241m=\u001B[39m \u001B[43mpredicted\u001B[49m\u001B[38;5;241;43m.\u001B[39;49m\u001B[43mnumpy\u001B[49m\u001B[43m(\u001B[49m\u001B[43m)\u001B[49m  \u001B[38;5;66;03m# Convertendo para NumPy array\u001B[39;00m\n\u001B[1;32m     69\u001B[0m y_test \u001B[38;5;241m=\u001B[39m y_test\u001B[38;5;241m.\u001B[39mnumpy()  \u001B[38;5;66;03m# Convertendo para NumPy array\u001B[39;00m\n\u001B[1;32m     70\u001B[0m \u001B[38;5;28mprint\u001B[39m(\u001B[38;5;124m\"\u001B[39m\u001B[38;5;124mRelatório de Classificação:\u001B[39m\u001B[38;5;124m\"\u001B[39m)\n",
      "\u001B[0;31mRuntimeError\u001B[0m: Numpy is not available"
     ]
    }
   ],
   "execution_count": 10
  },
  {
   "metadata": {},
   "cell_type": "code",
   "outputs": [],
   "execution_count": null,
   "source": "",
   "id": "830fff38432e70b8"
  }
 ],
 "metadata": {
  "kernelspec": {
   "display_name": "Python 3",
   "language": "python",
   "name": "python3"
  },
  "language_info": {
   "codemirror_mode": {
    "name": "ipython",
    "version": 2
   },
   "file_extension": ".py",
   "mimetype": "text/x-python",
   "name": "python",
   "nbconvert_exporter": "python",
   "pygments_lexer": "ipython2",
   "version": "2.7.6"
  }
 },
 "nbformat": 4,
 "nbformat_minor": 5
}
